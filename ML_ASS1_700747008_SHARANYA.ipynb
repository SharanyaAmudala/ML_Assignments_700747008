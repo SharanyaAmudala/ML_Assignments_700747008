{
 "cells": [
  {
   "cell_type": "code",
   "execution_count": 6,
   "id": "04020ba9",
   "metadata": {},
   "outputs": [
    {
     "name": "stdout",
     "output_type": "stream",
     "text": [
      "Sorted Array:  [19, 19, 20, 22, 24, 24, 24, 25, 25, 26]\n",
      "The minimum age is:  19\n",
      "The maximum age is:  26\n",
      "Array after adding minimum and maximum values again:  [19, 19, 20, 22, 24, 24, 24, 25, 25, 26, 19, 26]\n",
      "Median is:  24.0\n",
      "The average is:  22.75\n",
      "The range is:  7\n"
     ]
    }
   ],
   "source": [
    "#Question 1\n",
    "#The following is a list of 10 students ages:\n",
    "ages = [19, 22, 19, 24, 20, 25, 26, 24, 25, 24]\n",
    "\n",
    "#1.a. Sorting the list and finding the min and max age\n",
    "ages.sort()\n",
    "print(\"Sorted Array: \",ages)\n",
    "print(\"The minimum age is: \",min(ages))\n",
    "print(\"The maximum age is: \",max(ages))\n",
    "\n",
    "#1.b. Adding the min age and the max age again to the list\n",
    "ages.append(19)\n",
    "ages.append(26)\n",
    "print(\"Array after adding minimum and maximum values again: \",ages)\n",
    "\n",
    "#1.c. Finding the median age (one middle item or two middle items divided by two)\n",
    "# Accessing statistics in python.\n",
    "import statistics\n",
    "print(\"Median is: \",statistics.median(ages))\n",
    "\n",
    "#1.d. Finding the average age (sum of all items divided by their number)\n",
    "Average = sum(ages)/len(ages)\n",
    "print(\"The average is: \",round(Average,2))\n",
    "\n",
    "#1.e. Finding the range of the ages (max minus min)\n",
    "Range = max(ages) - min(ages)\n",
    "print(\"The range is: \",Range)"
   ]
  },
  {
   "cell_type": "code",
   "execution_count": 11,
   "id": "02bd9315",
   "metadata": {},
   "outputs": [
    {
     "name": "stdout",
     "output_type": "stream",
     "text": [
      "{}\n",
      "{'name': 'Tyson', 'Color': 'Brown', 'Breed': 'Rottweiler', 'legs': 4, 'age': 4}\n",
      "{'first_name': 'Sharanya', 'last_name': 'Amudala', 'gender': 'female', 'age': 24, 'marital status': 'single', 'skills': ['coding', 'singing'], 'country': 'US', 'city': 'Warrensburg', 'address': 'Mainstreet Apartment 3'}\n",
      "Length of the student dictionary is:  9\n",
      "['coding', 'singing']\n",
      "The data type of skills is:  <class 'list'>\n",
      "{'first_name': 'Sharanya', 'last_name': 'Amudala', 'gender': 'female', 'age': 24, 'marital status': 'single', 'skills': ['coding', 'singing', 'dancing', 'cooking'], 'country': 'US', 'city': 'Warrensburg', 'address': 'Mainstreet Apartment 3'}\n",
      "dict_keys(['first_name', 'last_name', 'gender', 'age', 'marital status', 'skills', 'country', 'city', 'address'])\n",
      "dict_values(['Sharanya', 'Amudala', 'female', 24, 'single', ['coding', 'singing', 'dancing', 'cooking'], 'US', 'Warrensburg', 'Mainstreet Apartment 3'])\n"
     ]
    }
   ],
   "source": [
    "#Question 2\n",
    "#2.a. Creating an empty dictionary called dog\n",
    "dog = {}\n",
    "print(dog)\n",
    "\n",
    "#2.b. Adding name, color, breed, legs, age to the dog dictionary\n",
    "dog = {'name':'Tyson', 'Color':'Brown', 'Breed':'Rottweiler', 'legs': 4, 'age': 4}\n",
    "print(dog)\n",
    "\n",
    "#2.c. Creating a student dictionary and add first_name, last_name, gender, age, marital status,skills, country, city and address as keys for the dictionary\n",
    "student = {'first_name':'Sharanya',\n",
    "           'last_name':'Amudala', \n",
    "           'gender':'female', \n",
    "           'age': 24,\n",
    "           'marital status': 'single',\n",
    "           'skills':['coding','singing'],\n",
    "           'country':'US', \n",
    "           'city':'Warrensburg',\n",
    "           'address': 'Mainstreet Apartment 3'}\n",
    "print(student)\n",
    "\n",
    "#2.d. Getting the length of the student dictionary\n",
    "print(\"Length of the student dictionary is: \",len(student))\n",
    "\n",
    "#2.e. Getting the value of skills and checking the data type, it should be a list\n",
    "print(student['skills'])\n",
    "print(\"The data type of skills is: \",type(student['skills']))\n",
    "\n",
    "\n",
    "#2.f. Modifying the skills values by adding one or two skills\n",
    "student.update({'skills' : ['coding','singing','dancing','cooking']})\n",
    "print(student)\n",
    "\n",
    "#2.g. Getting the dictionary keys as a list\n",
    "print(student.keys())\n",
    "\n",
    "#2.h. Getting the dictionary values as a list\n",
    "print(student.values())"
   ]
  },
  {
   "cell_type": "code",
   "execution_count": 12,
   "id": "51ead71e",
   "metadata": {},
   "outputs": [
    {
     "name": "stdout",
     "output_type": "stream",
     "text": [
      "('Sravanthi', 'Spandana')\n",
      "('SaiLikhith', 'Vatsal')\n",
      "('Sravanthi', 'Spandana', 'SaiLikhith', 'Vatsal')\n",
      "The number of siblings I have is:  4\n",
      "('Sravanthi', 'Spandana', 'SaiLikhith', 'Vatsal', 'Vishwanatham', 'Bhagya Laxmi')\n"
     ]
    }
   ],
   "source": [
    "#Question 3\n",
    "#3.a. Creat a tuple containing names of your sisters and your brothers (imaginary siblings are fine)\n",
    "my_sisters = (\"Sravanthi\" , \"Spandana\")\n",
    "my_brother = (\"SaiLikhith\",\"Vatsal\")\n",
    "print(my_sisters)\n",
    "print(my_brother)\n",
    "\n",
    "#3.b. Join brothers and sisters tuples and assign it to siblings\n",
    "siblings=my_sisters+my_brother\n",
    "print(siblings)\n",
    "\n",
    "#3.c. How many siblings do you have?\n",
    "no_of_siblings = len(siblings)\n",
    "print(\"The number of siblings I have is: \",no_of_siblings)\n",
    "\n",
    "#3.d. Modify the siblings tuple and add the name of your father and mother and assign it to family_members\n",
    "parents= (\"Vishwanatham\",\"Bhagya Laxmi\")\n",
    "family_members = (siblings +parents)\n",
    "print(family_members)"
   ]
  },
  {
   "cell_type": "code",
   "execution_count": 13,
   "id": "416ea8b9",
   "metadata": {},
   "outputs": [
    {
     "name": "stdout",
     "output_type": "stream",
     "text": [
      "The length of it_companies is:  7\n",
      "{'IBM', 'Facebook', 'Google', 'Twitter', 'Amazon', 'Oracle', 'Apple', 'Microsoft'}\n",
      "{'TCS', 'Apple', 'Amazon', 'Microsoft', 'IBM', 'Capgemini', 'Facebook', 'Google', 'Oracle', 'Twitter'}\n",
      "{'TCS', 'Apple', 'Amazon', 'Microsoft', 'IBM', 'Facebook', 'Google', 'Oracle', 'Twitter'}\n",
      "{19, 20, 22, 24, 25, 26, 27, 28}\n",
      "{19, 20, 22, 24, 25, 26}\n",
      "True\n",
      "False\n",
      "{19, 20, 22, 24, 25, 26, 27, 28}\n",
      "{19, 20, 22, 24, 25, 26, 27, 28}\n",
      "{27, 28}\n",
      "set()\n",
      "set()\n",
      "set()\n",
      "Length of list age:  8\n",
      "Length of set Ages:  5\n"
     ]
    }
   ],
   "source": [
    "#Question 4\n",
    "it_companies = {'Facebook', 'Google', 'Microsoft', 'Apple', 'IBM', 'Oracle', 'Amazon'} \n",
    "A = {19, 22, 24, 20, 25, 26}\n",
    "B = {19, 22, 20, 25, 26, 24, 28, 27}\n",
    "age = [22, 19, 24, 25, 26, 24, 25, 24]\n",
    "\n",
    "#4.a. Find the length of the set it_companies\n",
    "print(\"The length of it_companies is: \",len(it_companies))\n",
    "\n",
    "#4.b. Add 'Twitter' to it_companies\n",
    "it_companies.add('Twitter')\n",
    "print(it_companies)\n",
    "\n",
    "#4.c. Insert multiple IT companies at once to the set it_companies\n",
    "it_companies.update({'Capgemini','TCS'})\n",
    "print(it_companies)\n",
    "\n",
    "#4.d. Remove one of the companies from the set it_companies\n",
    "it_companies.remove('Capgemini')\n",
    "print(it_companies)\n",
    "\n",
    "#4.e. What is the difference between remove and discard\n",
    "#Ans: The remove() method will raise an error if the specified item does not exist, and the discard() method will not.\n",
    "\n",
    "#4.f. Join A and B\n",
    "print(A.union(B))\n",
    "\n",
    "#4.g. Find A intersection B\n",
    "print(A.intersection(B))\n",
    "\n",
    "#4.h. Is A subset of B\n",
    "print(A.issubset(B))\n",
    "\n",
    "#4.i. Are A and B disjoint sets\n",
    "print(A.isdisjoint(B))\n",
    "\n",
    "#4.j. Join A with B and B with A\n",
    "print(A.union(B))\n",
    "print(B.union(A))\n",
    "\n",
    "#4.k. What is the symmetric difference between A and B\n",
    "print(A.symmetric_difference(B))\n",
    "\n",
    "#4.l. Delete the sets completely\n",
    "it_companies.clear()\n",
    "print(it_companies)\n",
    "A.clear()\n",
    "print(A)\n",
    "B.clear()\n",
    "print(B)\n",
    "\n",
    "#4.m. Convert the ages to a set and compare the length of the list and the set.\n",
    "Ages=set(age)\n",
    "print(\"Length of list age: \",len(age))\n",
    "print(\"Length of set Ages: \",len(Ages))"
   ]
  },
  {
   "cell_type": "code",
   "execution_count": 14,
   "id": "5d70acc2",
   "metadata": {},
   "outputs": [
    {
     "name": "stdout",
     "output_type": "stream",
     "text": [
      "Area is:  2826.0\n",
      "Circumference is:  188.4\n",
      "Enter The Radius of the circle:10\n",
      "314.0\n"
     ]
    }
   ],
   "source": [
    "#Question 5\n",
    "#The radius of a circle is 30 meters.\n",
    "r = 30\n",
    "\n",
    "#Calculate the area of a circle and assign the value to a variable name of _area_of_circle_\n",
    "pi = 3.14\n",
    "_area_of_circle_ = pi*r*r\n",
    "print(\"Area is: \",_area_of_circle_)\n",
    "\n",
    "#Calculate the circumference of a circle and assign the value to a variable name of _circum_of_circle_\n",
    "_circum_of_circle_ = 2*pi*r\n",
    "print(\"Circumference is: \",_circum_of_circle_)\n",
    "\n",
    "#Take radius as user input and calculate the area.\n",
    "rad =int( input(\"Enter The Radius of the circle:\"))\n",
    "area = pi*rad*rad\n",
    "print(area)"
   ]
  },
  {
   "cell_type": "code",
   "execution_count": 15,
   "id": "1dfd3d93",
   "metadata": {},
   "outputs": [
    {
     "name": "stdout",
     "output_type": "stream",
     "text": [
      "10\n"
     ]
    }
   ],
   "source": [
    "#Question 6\n",
    "# “I am a teacher and I love to inspire and teach people”\n",
    "#How many unique words have been used in the sentence? Use the split methods and set to get the unique words.\n",
    "\n",
    "sentence = \"I am a teacher and I love to inspire and teach people\"\n",
    "\n",
    "print(len(set(sentence.split())))"
   ]
  },
  {
   "cell_type": "code",
   "execution_count": 16,
   "id": "ec4c4708",
   "metadata": {},
   "outputs": [
    {
     "name": "stdout",
     "output_type": "stream",
     "text": [
      "Name\tAge\tCountry\tCity\n",
      "Asabeneh\t250\tFinland\tHelsinki\n"
     ]
    }
   ],
   "source": [
    "#Question 7\n",
    "#Use a tab escape sequence to get the following lines.\n",
    "#Name Age Country City\n",
    "#Asabeneh 250 Finland Helsinki\n",
    "\n",
    "print('Name\\tAge\\tCountry\\tCity')\n",
    "print('Asabeneh\\t250\\tFinland\\tHelsinki')\n"
   ]
  },
  {
   "cell_type": "code",
   "execution_count": 21,
   "id": "ccabbbab",
   "metadata": {},
   "outputs": [
    {
     "name": "stdout",
     "output_type": "stream",
     "text": [
      "radius = 10\n",
      "area = 3.14 * radius ** 2\n",
      "\"The area of a circle with radius 10 is 314 meters square.\"\n"
     ]
    }
   ],
   "source": [
    "#Question 8\n",
    "#Use the string formatting method to display the following:\n",
    "#radius = 10\n",
    "#area = 3.14 * radius ** 2\n",
    "#“The area of a circle with radius 10 is 314 meters square.”\n",
    "\n",
    "print('radius = %d' %10)\n",
    "print('area = %.2f * radius ** %d'%(3.14,2))  #two * sign means exponent or power\n",
    "print('\"The area of a circle with radius %d is %d meters square.\"'%(10,314))"
   ]
  },
  {
   "cell_type": "code",
   "execution_count": 18,
   "id": "e3633595",
   "metadata": {},
   "outputs": [
    {
     "name": "stdout",
     "output_type": "stream",
     "text": [
      "Enter the number of students: 2\n",
      "Enter weight in lb's: \n",
      "20\n",
      "40\n",
      "Weight in Kg's:  [9.07184, 18.14368]\n"
     ]
    }
   ],
   "source": [
    "#Question 9\n",
    "#conversion rate from lbs to kgs is 0.453592\n",
    "CR=0.453592\n",
    "N=(int)(input(\"Enter the number of students: \"))\n",
    "weight_lb=[]\n",
    "weight_kg=[]\n",
    "\n",
    "#Taking input of students weight in lb's\n",
    "print(\"Enter weight in lb's: \")\n",
    "for i in range(0, N):\n",
    "    weight_lb.append((int)(input()))\n",
    "for i in range(0,N):\n",
    "    weight_kg.append(CR*weight_lb[i])\n",
    "print(\"Weight in Kg's: \",weight_kg)\n",
    "       "
   ]
  }
 ],
 "metadata": {
  "kernelspec": {
   "display_name": "Python 3 (ipykernel)",
   "language": "python",
   "name": "python3"
  },
  "language_info": {
   "codemirror_mode": {
    "name": "ipython",
    "version": 3
   },
   "file_extension": ".py",
   "mimetype": "text/x-python",
   "name": "python",
   "nbconvert_exporter": "python",
   "pygments_lexer": "ipython3",
   "version": "3.11.1"
  }
 },
 "nbformat": 4,
 "nbformat_minor": 5
}
