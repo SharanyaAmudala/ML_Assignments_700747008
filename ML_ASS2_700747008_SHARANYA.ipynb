{
 "cells": [
  {
   "cell_type": "code",
   "execution_count": 53,
   "id": "dc0faf46",
   "metadata": {},
   "outputs": [
    {
     "name": "stdout",
     "output_type": "stream",
     "text": [
      "* \r\n",
      "* * \r\n",
      "* * * \r\n",
      "* * * * \r\n",
      "* * * * * \r\n",
      "* * * * \r\n",
      "* * * \r\n",
      "* * \r\n",
      "* \r\n"
     ]
    }
   ],
   "source": [
    "# i serves as rows and j serves as columns\n",
    "# Code for printing the increasing order of *'s\n",
    "for i in range(0,5):\n",
    "    for j in range(0,i+1):\n",
    "        print(\"* \",end=\"\")\n",
    "    print(\"\\r\")\n",
    "# Code for printing the decreasing order of *'s\n",
    "for i in range(4,0,-1):\n",
    "    for j in range(0,i):\n",
    "        print(\"* \",end=\"\")\n",
    "    print(\"\\r\") "
   ]
  },
  {
   "cell_type": "code",
   "execution_count": 69,
   "id": "ed692ec4",
   "metadata": {},
   "outputs": [
    {
     "name": "stdout",
     "output_type": "stream",
     "text": [
      "Separated odd list:  [20, 40, 60, 80, 100]\n"
     ]
    }
   ],
   "source": [
    "my_list = [10, 20, 30, 40, 50, 60, 70, 80, 90, 100]\n",
    "# Creating an empty list \"odd\" to save odd indexed values\n",
    "odd = []\n",
    "even = []\n",
    "# adding values in odd index to the list \"odd\"\n",
    "for i in range(0, len(my_list)):\n",
    "    if i % 2:\n",
    "        odd.append(my_list[i])\n",
    "    else :\n",
    "        even.append(my_list[i])\n",
    "\n",
    "print(\"Separated odd list: \" ,(odd))"
   ]
  },
  {
   "cell_type": "code",
   "execution_count": 70,
   "id": "70c86371",
   "metadata": {},
   "outputs": [
    {
     "name": "stdout",
     "output_type": "stream",
     "text": [
      "[23, 'Python', 23.98]\n",
      "[<class 'int'>, <class 'str'>, <class 'float'>]\n"
     ]
    }
   ],
   "source": [
    "x = [23, \"Python\", 23.98]\n",
    "input_types=[]\n",
    "# type inbuilt function will give the data type of a variable\n",
    "for i in x:\n",
    "    input_types.append(type(i))\n",
    "print(x)\n",
    "print(input_types)"
   ]
  },
  {
   "cell_type": "code",
   "execution_count": 60,
   "id": "45740b52",
   "metadata": {},
   "outputs": [
    {
     "name": "stdout",
     "output_type": "stream",
     "text": [
      "[1, 2, 3, 4, 5]\n"
     ]
    }
   ],
   "source": [
    "# Creating a function called UniqueList \n",
    "def UniqueList(l):\n",
    "#  Set will not take duplicate values. So, converting list to a set eliminates duplicates\n",
    "#Conerting given list to a set and then again converting to a list and returning it.\n",
    "    unique_list=list(set(l))\n",
    "    return unique_list\n",
    "\n",
    "list1=[1,2,3,3,3,3,4,5]\n",
    "print(UniqueList(list1))"
   ]
  },
  {
   "cell_type": "code",
   "execution_count": 65,
   "id": "1d031137",
   "metadata": {},
   "outputs": [
    {
     "name": "stdout",
     "output_type": "stream",
     "text": [
      "No. of Upper-case characters:  3\n",
      "No. of Lower-case Characters:  12\n"
     ]
    }
   ],
   "source": [
    "def CaseCount(s):\n",
    "# UC will count the number of Upper Case letters, LC will count the number of lower case letters\n",
    "    UC=0;LC=0\n",
    "    for i in s:\n",
    "        if(i>='A' and i<='Z'):\n",
    "            UC+=1\n",
    "        if(i>='a' and i<='z'):\n",
    "            LC+=1\n",
    "    print(\"No. of Upper-case characters: \",UC)\n",
    "    print(\"No. of Lower-case Characters: \",LC)\n",
    "\n",
    "Input_String='The quick Brow Fox'    \n",
    "CaseCount(Input_String)\n",
    "    "
   ]
  }
 ],
 "metadata": {
  "kernelspec": {
   "display_name": "Python 3 (ipykernel)",
   "language": "python",
   "name": "python3"
  },
  "language_info": {
   "codemirror_mode": {
    "name": "ipython",
    "version": 3
   },
   "file_extension": ".py",
   "mimetype": "text/x-python",
   "name": "python",
   "nbconvert_exporter": "python",
   "pygments_lexer": "ipython3",
   "version": "3.11.1"
  }
 },
 "nbformat": 4,
 "nbformat_minor": 5
}
